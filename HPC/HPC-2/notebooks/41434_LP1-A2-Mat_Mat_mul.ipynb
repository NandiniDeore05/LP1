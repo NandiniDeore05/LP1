{
 "cells": [
  {
   "cell_type": "code",
   "execution_count": 1,
   "metadata": {
    "colab": {},
    "colab_type": "code",
    "id": "oA5DqT5LdMZM"
   },
   "outputs": [],
   "source": [
    "code=\"\"\"\n",
    "#include<iostream>\n",
    "using namespace std;\n",
    "__global__\n",
    "void matrixMultiplication(int *a, int *b, int *c, int m, int n, int k)\n",
    "{\n",
    "    int row = blockIdx.y*blockDim.y + threadIdx.y;\n",
    "    int col = blockIdx.x*blockDim.x + threadIdx.x;\n",
    "    int sum=0;\n",
    "    if(col<k && row<m) {\n",
    "      for(int j=0;j<n;j++)\n",
    "      {\n",
    "          sum += a[row*n+j] * b[j*k+col];\n",
    "      }\n",
    "      c[k*row+col]=sum;\n",
    "    }\n",
    "    \n",
    "}\n",
    "\n",
    "void init_result(int *a, int m, int k) {\n",
    "    for(int i=0; i<m; i++) {\n",
    "      for(int j=0; j<k; j++) {\n",
    "        a[i*k + j] = 0;\n",
    "      }\n",
    "    }\n",
    "}\n",
    "\n",
    "void init_matrix(int *a, int n, int m) {\n",
    "  srand((unsigned)time(0));\n",
    "    for(int i=0; i<n; i++) {\n",
    "      for(int j=0; j<m; j++) {\n",
    "        a[i*m + j] = rand()%10 + 1;\n",
    "      }\n",
    "    }\n",
    "}\n",
    "\n",
    "void print_matrix(int *a, int n, int m) {\n",
    "    for(int i=0; i<n; i++) {\n",
    "      for(int j=0; j<m; j++) {\n",
    "        cout<<\"  \"<<a[i*m + j];\n",
    "      }\n",
    "      cout<<endl;\n",
    "    }\n",
    "    cout<<endl;\n",
    "}\n",
    "\n",
    "int main()\n",
    "{\n",
    "    \n",
    "    int *a,*b,*c;\n",
    "    int *a_dev,*b_dev,*c_dev;\n",
    "    int m=5, n=4, k=3;\n",
    "    \n",
    "    a = new int[m*n];\n",
    "    b = new int[n*k];\n",
    "    c = new int[m*k];\n",
    "    \n",
    "    init_matrix(a, m, n);\n",
    "    init_matrix(b, n ,k);\n",
    "    init_result(c, m, k);\n",
    "    \n",
    "    cout<<\"Initial matrix : \"<<endl;\n",
    "    \n",
    "    print_matrix(a, m, n);\n",
    "    print_matrix(b, n, k);\n",
    "   // print_matrix(c, m, k);\n",
    "    \n",
    "    cudaMalloc(&a_dev, sizeof(int)*m*n);\n",
    "    cudaMalloc(&b_dev, sizeof(int)*n*k);\n",
    "    cudaMalloc(&c_dev, sizeof(int)*m*k);\n",
    "       \n",
    "    cudaMemcpy(a_dev, a, sizeof(int)*m*n, cudaMemcpyHostToDevice);\n",
    "    cudaMemcpy(b_dev, b, sizeof(int)*n*k, cudaMemcpyHostToDevice);\n",
    "    \n",
    "    //dim3 is special CUDA datatype with 3 components .x, .y, .z each initialized to 1.\n",
    "    \n",
    "    dim3 dimGrid(1,1);   // 1(=1*1) thread block\n",
    "    dim3 dimBlock(16,16);   // 256(=16*16) threads per block\n",
    "    \n",
    "    matrixMultiplication<<<dimGrid, dimBlock>>>(a_dev,b_dev,c_dev, m, n, k);\n",
    "     \n",
    "    cudaMemcpy(c, c_dev, sizeof(int)*m*k, cudaMemcpyDeviceToHost);\n",
    "    \n",
    "    cout<<\"Result : \"<<endl;\n",
    "    print_matrix(c, m, k);\n",
    "    \n",
    "    cudaFree(a_dev);\n",
    "    cudaFree(b_dev);\n",
    "    cudaFree(c_dev);\n",
    "    \n",
    "    delete[] a;\n",
    "    delete[] b;\n",
    "    delete[] c;\n",
    "    \n",
    "    return 0;\n",
    "}\n",
    "\"\"\""
   ]
  },
  {
   "cell_type": "code",
   "execution_count": 10,
   "metadata": {
    "colab": {},
    "colab_type": "code",
    "id": "EBpp_1KLdukg"
   },
   "outputs": [],
   "source": [
    "text_file = open(\"C:/Users/BAVISKAR/Desktop/College/41413/LP-I/HPC-2/notebooksmat_mat_mult.cu\", \"w\")\n",
    "text_file.write(code)\n",
    "text_file.close()"
   ]
  },
  {
   "cell_type": "code",
   "execution_count": 2,
   "metadata": {},
   "outputs": [],
   "source": [
    "text_file = open(\"notebooksmat_mat_mult.cu\", \"w\")\n",
    "text_file.write(code)\n",
    "text_file.close()"
   ]
  },
  {
   "cell_type": "code",
   "execution_count": 3,
   "metadata": {
    "colab": {},
    "colab_type": "code",
    "id": "xxKE_whIdxiF"
   },
   "outputs": [
    {
     "name": "stderr",
     "output_type": "stream",
     "text": [
      "'nvcc' is not recognized as an internal or external command,\n",
      "operable program or batch file.\n"
     ]
    }
   ],
   "source": [
    "!nvcc mat_mat_mult.cu\n"
   ]
  },
  {
   "cell_type": "code",
   "execution_count": 4,
   "metadata": {
    "colab": {
     "base_uri": "https://localhost:8080/",
     "height": 347
    },
    "colab_type": "code",
    "id": "6GjE0j6Md1u-",
    "outputId": "f1faac79-219d-4686-e109-94ce6046244f"
   },
   "outputs": [
    {
     "name": "stderr",
     "output_type": "stream",
     "text": [
      "'.' is not recognized as an internal or external command,\n",
      "operable program or batch file.\n"
     ]
    }
   ],
   "source": [
    "!./a.out\n"
   ]
  },
  {
   "cell_type": "code",
   "execution_count": null,
   "metadata": {
    "colab": {},
    "colab_type": "code",
    "id": "D7zItmPxd2EQ"
   },
   "outputs": [],
   "source": []
  }
 ],
 "metadata": {
  "accelerator": "GPU",
  "colab": {
   "name": "Untitled10.ipynb",
   "provenance": []
  },
  "kernelspec": {
   "display_name": "Python 3",
   "language": "python",
   "name": "python3"
  },
  "language_info": {
   "codemirror_mode": {
    "name": "ipython",
    "version": 3
   },
   "file_extension": ".py",
   "mimetype": "text/x-python",
   "name": "python",
   "nbconvert_exporter": "python",
   "pygments_lexer": "ipython3",
   "version": "3.7.6"
  }
 },
 "nbformat": 4,
 "nbformat_minor": 1
}
