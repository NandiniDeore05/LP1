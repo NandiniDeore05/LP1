{
 "cells": [
  {
   "cell_type": "code",
   "execution_count": 13,
   "metadata": {
    "colab": {},
    "colab_type": "code",
    "id": "wJUnkLxgh42T"
   },
   "outputs": [],
   "source": [
    "code = \"\"\"\n",
    "#include<omp.h>\n",
    "#include<bits/stdc++.h>\n",
    "using namespace std;\n",
    "\n",
    "void swap(int *num1, int *num2) {\n",
    "    int temp = *num1;\n",
    "    *num1 = *num2;\n",
    "    *num2 = temp;\n",
    "}\n",
    "\n",
    "int main() {\n",
    "    int n = 10;\n",
    "    int a[n];\n",
    "    \n",
    "    omp_set_num_threads(2);  // specify the number of threads to use when creating parallel regions\n",
    "    \n",
    "    for(int i=0; i<n; i++) {\n",
    "        a[i] = rand()% 100;\n",
    "    }\n",
    "    \n",
    "    for(int i=0; i<n; i++) \n",
    "        cout<<\"  \"<<a[i];\n",
    "    cout<<endl;\n",
    "    \n",
    "    int i=0, j=0;\n",
    "    int first=0;\n",
    "    double start, end;\n",
    "    \n",
    "    start = omp_get_wtime();  //function returns a double precision value equal to the number of seconds since the initial value of the operating system real-time clock.\n",
    "    //basically returns the time when the execution has started\n",
    "    \n",
    "    for(i=0; i<n-1; i++) {\n",
    "        first = i%2;\n",
    "        #pragma omp parallel for\n",
    "        for(j=first; j<n-1; j++) {\n",
    "            if(a[j] > a[j+1])\n",
    "              swap(&a[j], &a[j+1]);\n",
    "        }\n",
    "    }\n",
    "    \n",
    "    end = omp_get_wtime();\n",
    "    cout<<\"Result(parallel) : \"<<endl;\n",
    "    for(i=0; i<n; i++)\n",
    "      cout<<\"  \"<<a[i];\n",
    "    cout<<endl;\n",
    "    \n",
    "    cout<<\"Time parallel = \"<<(end-start)<<endl;\n",
    "    \n",
    "    return 0;\n",
    "    \n",
    "}\n",
    "\"\"\""
   ]
  },
  {
   "cell_type": "code",
   "execution_count": 14,
   "metadata": {
    "colab": {},
    "colab_type": "code",
    "id": "jVNFc8fuia7Z"
   },
   "outputs": [],
   "source": [
    "bubble_sort = open(\"bubble.cpp\", \"w\")\n",
    "bubble_sort.write(code)\n",
    "bubble_sort.close()\n"
   ]
  },
  {
   "cell_type": "code",
   "execution_count": 15,
   "metadata": {
    "colab": {},
    "colab_type": "code",
    "id": "WrUwz62HieGo"
   },
   "outputs": [],
   "source": [
    "!g++ -fopenmp code.cpp\n"
   ]
  },
  {
   "cell_type": "code",
   "execution_count": 16,
   "metadata": {
    "colab": {
     "base_uri": "https://localhost:8080/",
     "height": 87
    },
    "colab_type": "code",
    "id": "GynsR9QIigNp",
    "outputId": "6d66bd37-cb56-476a-a9a7-5ef7e53a174c"
   },
   "outputs": [
    {
     "name": "stdout",
     "output_type": "stream",
     "text": [
      "  83  86  77  15  93  35  86  92  49  21\n",
      "Result(parallel) : \n",
      "  15  21  35  49  77  83  86  86  92  93\n",
      "Time parallel = 9.7198e-05\n"
     ]
    }
   ],
   "source": [
    "!./a.out\n"
   ]
  },
  {
   "cell_type": "code",
   "execution_count": null,
   "metadata": {
    "colab": {},
    "colab_type": "code",
    "id": "bb9nEZlW1hfN"
   },
   "outputs": [],
   "source": []
  }
 ],
 "metadata": {
  "accelerator": "GPU",
  "colab": {
   "name": "LP1-A3-bubble.ipynb",
   "provenance": []
  },
  "kernelspec": {
   "display_name": "Python 3",
   "language": "python",
   "name": "python3"
  },
  "language_info": {
   "codemirror_mode": {
    "name": "ipython",
    "version": 3
   },
   "file_extension": ".py",
   "mimetype": "text/x-python",
   "name": "python",
   "nbconvert_exporter": "python",
   "pygments_lexer": "ipython3",
   "version": "3.7.6"
  }
 },
 "nbformat": 4,
 "nbformat_minor": 1
}
